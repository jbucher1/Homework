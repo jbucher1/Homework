{
 "cells": [
  {
   "cell_type": "code",
   "execution_count": 17,
   "metadata": {},
   "outputs": [
    {
     "name": "stdout",
     "output_type": "stream",
     "text": [
      "[20, 9, 6, 'lucy', 7]\n",
      "[20, 9, 6, 'lucy', 7, 12, 'cow']\n",
      "7\n",
      "[9, 6, 'lucy', 7]\n",
      "[20, 9, 6, 'lucy', 7, 12, 'cow', 9, 6, 'lucy', 7]\n",
      "[6, 7, 9, 13, 36]\n",
      "[6, 7, 9, 13, 36]\n",
      "[6, 7, 9, 13, 36, 6, 7, 9, 13, 36, 20, 9, 6, 'lucy', 7, 12, 'cow', 9, 6, 'lucy', 7]\n"
     ]
    }
   ],
   "source": [
    "List1=[20,1,6,\"lucy\",7]\n",
    "\n",
    "List1[1]= 9\n",
    "\n",
    "print(List1)\n",
    "\n",
    "List1.append(12)\n",
    "List1.insert(6,\"cow\")\n",
    "print(List1)\n",
    "\n",
    "print(len(List1))\n",
    "\n",
    "list2=(List1[1:5])\n",
    "\n",
    "print(list2)\n",
    "\n",
    "List1.extend(list2)\n",
    "print(List1)\n",
    "\n",
    "simlist=[6,7,9,13,36]\n",
    "\n",
    "simlist.sort()\n",
    "print(simlist)\n",
    "\n",
    "newlist=simlist.copy()\n",
    "print(newlist)\n",
    "\n",
    "newlist3=(simlist + newlist + List1)\n",
    "\n",
    "print(newlist3)\n"
   ]
  },
  {
   "cell_type": "code",
   "execution_count": 50,
   "metadata": {},
   "outputs": [
    {
     "name": "stdout",
     "output_type": "stream",
     "text": [
      "(8, 7, 81, 22, 48, 8, 7, 81, 22, 48, 8, 7, 81, 22, 48)\n",
      "81\n",
      "[7, 7, 7, 8, 8, 8, 22, 22, 22, 48, 48, 48, 81, 81, 81]\n",
      "(7, 81, 22, 48)\n",
      "81\n",
      "7\n",
      "22\n",
      "48\n",
      "(50,)\n",
      "(8, 7, 81, 22, 48, 8, 7, 81, 22, 48, 8, 7, 81, 22, 48, 7, 81, 22, 48)\n"
     ]
    }
   ],
   "source": [
    "t = (8,7,81,22,48)\n",
    "\n",
    "timest=t*3\n",
    "\n",
    "print(timest)\n",
    "\n",
    "print(timest[12])\n",
    "\n",
    "print(sorted(timest))\n",
    "\n",
    "t3=timest\n",
    "\n",
    "t5=t3[1:5]\n",
    "print(t5)\n",
    "\n",
    "blue,green,red,purple=t5\n",
    "\n",
    "print(green)\n",
    "print(blue)\n",
    "print(red)\n",
    "print(purple)\n",
    "\n",
    "t8=(50,)\n",
    "print(t8)\n",
    "\n",
    "t1=timest+t5\n",
    "\n",
    "print(t1)\n"
   ]
  },
  {
   "cell_type": "code",
   "execution_count": 77,
   "metadata": {},
   "outputs": [
    {
     "name": "stdout",
     "output_type": "stream",
     "text": [
      "{2, 8, 'car', 'pearorangeapple', 'pie'}\n",
      "{'owlboogerprivate'}\n",
      "{2, 'pie', 'owlboogerprivate', 8, 'car', 'pearorangeapple'}\n",
      "set()\n",
      "set()\n",
      "{'owlboogerprivate', 8, 'car', 'pearorangeapple'}\n"
     ]
    }
   ],
   "source": [
    "s1={2,8,\"pie\"}\n",
    "fruits=('pear''orange''apple')\n",
    "s1.add(fruits)\n",
    "s1.add(\"car\")\n",
    "print(s1)\n",
    "\n",
    "s2={'owl' 'booger' 'private'}\n",
    "print(s2)\n",
    "\n",
    "s3 = s1.union(s2)\n",
    "print(s3)\n",
    "\n",
    "s2.pop()\n",
    "print(s2)\n",
    "\n",
    "s1.clear()\n",
    "print(s1)\n",
    "\n",
    "s3.remove(\"pie\")\n",
    "s3.discard(2)\n",
    "\n",
    "print(s3)"
   ]
  },
  {
   "cell_type": "code",
   "execution_count": 89,
   "metadata": {},
   "outputs": [
    {
     "name": "stdout",
     "output_type": "stream",
     "text": [
      "{'brand': 'Chevy', 'model': 'Nova', 'year': 1964, 'color': 'jordan', 'engine': 'v8'}\n",
      "{'brand': 'Chevy', 'model': 'Nova', 'year': 1964, 'color': 'jordan', 'engine': 'v8', 'favorite color': 'green'}\n",
      "{'brand': 'Chevy', 'model': 'Nova', 'year': 1964, 'color': 'jordan', 'engine': 'v8', 'favorite color': 'green', ('name', 'show'): ('morty', 'rick')}\n",
      "dict_keys(['brand', 'model', 'year', 'color', 'engine', 'favorite color', ('name', 'show')])\n"
     ]
    }
   ],
   "source": [
    "d={ \"brand\": \"Chevy\",\n",
    "    \"model\": \"Nova\",\n",
    "    \"year\": 1964,\n",
    "    \"color\": \"blue\",\n",
    "    \"engine\": \"v8\"}\n",
    "\n",
    "d['color'] = 'jordan'\n",
    "print(d)\n",
    "d['favorite color'] = 'green'\n",
    "\n",
    "print(d)\n",
    "d[('name','show')] = (\"morty\", \"rick\") \n",
    "\n",
    "print(d)\n",
    "\n",
    "\n",
    "myKeys = d.keys()\n",
    "print(myKeys)\n",
    "\n",
    "myValues = d.values()\n",
    "print(myValues)\n",
    "\n",
    "d2 = d.copy()\n",
    "print(d2)\n",
    "\n",
    "d.pop(\"brand\")\n",
    "print(d)\n",
    "\n",
    "d2.clear()\n",
    "print(d2)\n",
    "\n"
   ]
  }
 ],
 "metadata": {
  "kernelspec": {
   "display_name": "Python 3",
   "language": "python",
   "name": "python3"
  },
  "language_info": {
   "codemirror_mode": {
    "name": "ipython",
    "version": 3
   },
   "file_extension": ".py",
   "mimetype": "text/x-python",
   "name": "python",
   "nbconvert_exporter": "python",
   "pygments_lexer": "ipython3",
   "version": "3.11.1"
  },
  "orig_nbformat": 4,
  "vscode": {
   "interpreter": {
    "hash": "e3dfee3fe5c3a31f4b4830527360689e25beb833bd2474d33bf97b86e4a25c09"
   }
  }
 },
 "nbformat": 4,
 "nbformat_minor": 2
}
