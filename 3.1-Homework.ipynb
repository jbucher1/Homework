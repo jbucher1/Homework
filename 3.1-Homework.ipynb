{
 "cells": [
  {
   "attachments": {},
   "cell_type": "markdown",
   "metadata": {},
   "source": [
    "    - Use a markdown numbered list to answer these questions.\n",
    "    - What is an algorithm?\n",
    "    - Why is Python considered to be a high-level language?\n",
    "    - Is Python a Natural or a Formal language?\n",
    "    - Variable names may not start with certain characters - name two.\n",
    "    - WHat is a Semantic error?\n",
    "    - What is the #1 rule of coding / debugging?\n",
    "    - list 5 Python reserved words.\n",
    "    - add and name, a web link for any Python coding article, in your markdown cell\n"
   ]
  },
  {
   "cell_type": "markdown",
   "metadata": {},
   "source": [
    "Open a code cell in your Jupyter Notebook and write the following code:\n",
    "    - Write a multi-line comment with your name, favorite food, and dream job on 3 different lines.\n",
    "    - assign 5 different data types to 5 different variables. At least one datatype must be a string.\n",
    "    - print the length of your string.\n",
    "    - print the the index value of the 4th character in your string.\n",
    "    - create a new variable called savvy, and assign it the string with this phrase \"Learning Data Analytics and Python is Awesome!\"\n",
    "    - return a range of characters that slices the above string from the beginning of  \"ing\" up to before \"and\"\n",
    "    - Replace \"Awesome\" with \"great\" in the string\n",
    "    - Test and print the savvy string to see it contains \"Python\"\n",
    "    - Create and assign 3 more variables called name, age and length using the multi-variable  naming method.\n",
    "    - Format a new string called 'miniBio' using variables in curly brackets to complete this phrase...\n",
    "            \"Hi my name is (name), I am (tall) and (so) old today.\"\n",
    "    - print 'miniBio'\n",
    "    - cast and print the age variable to a float."
   ]
  }
 ],
 "metadata": {
  "kernelspec": {
   "display_name": "Python 3",
   "language": "python",
   "name": "python3"
  },
  "language_info": {
   "name": "python",
   "version": "3.11.1 (tags/v3.11.1:a7a450f, Dec  6 2022, 19:58:39) [MSC v.1934 64 bit (AMD64)]"
  },
  "orig_nbformat": 4,
  "vscode": {
   "interpreter": {
    "hash": "e3dfee3fe5c3a31f4b4830527360689e25beb833bd2474d33bf97b86e4a25c09"
   }
  }
 },
 "nbformat": 4,
 "nbformat_minor": 2
}
