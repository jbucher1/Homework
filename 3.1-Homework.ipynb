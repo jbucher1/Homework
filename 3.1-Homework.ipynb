{
 "cells": [
  {
   "cell_type": "code",
   "execution_count": 1,
   "metadata": {},
   "outputs": [
    {
     "name": "stdout",
     "output_type": "stream",
     "text": [
      "5\n",
      "e\n",
      "houseLearning Data Analytics and Python is Awesome!\n",
      "ing Data Analytics\n",
      "houseLearning Data Analytics and Python is great!\n",
      "Learning Data Analytics and Python is Awesome!\n",
      "Hi, my name is  jordan I am  69 inches tall and 33 years old today.\n",
      "33.0\n"
     ]
    }
   ],
   "source": [
    "\n",
    "\n",
    "\n",
    "\n",
    "\n",
    "#print('Jordan')\n",
    "#print('rice')\n",
    "#print('data analyst')\n",
    "\n",
    "a,b,c,d,e = 4,4.4,'pizza',5,6\n",
    "r=('house')\n",
    "\n",
    "print(len(r))\n",
    "\n",
    "print(r[4])\n",
    "\n",
    "savvy=(\"Learning Data Analytics and Python is Awesome!\")\n",
    "\n",
    "h=((r)+(savvy))\n",
    "print(h)\n",
    "\n",
    "print(h[10:28])\n",
    "\n",
    "p = h.replace (\"Awesome\",'great')\n",
    "print(p)\n",
    "\n",
    "print(savvy)\n",
    "\n",
    "name,age,length = 'jordan','33','69 inches'\n",
    "\n",
    "minibio = \"Hi, my name is  {} I am  {} tall and {} years old today.\"\n",
    "print(minibio.format(name, length, age))\n",
    "\n",
    "age=float(age)\n",
    "print(age)"
   ]
  },
  {
   "attachments": {},
   "cell_type": "markdown",
   "metadata": {},
   "source": [
    "\n",
    "# What is a algorithm?\n",
    ">series of steps to solve a problem at hand\n",
    "## Why is python consiidered to be a high level language?\n",
    ">they take less time to write -they are shorter and easier to read -and they are more likely to be correct/error free when we run them\n",
    "### Is python a natural or a formal language?\n",
    ">Natural\n",
    "#### Variable names may not start with certain characters-name two?\n",
    ">fwefwef\n",
    "##### What is a semantic error?\n",
    ">code is grammatically correct but doesn't make any sense; it does not produce the expected results\n",
    "###### What is the number one rule of coding?\n",
    ">Complexity is the enemy of efficiency!\n",
    "###### List five python reserved words?\n",
    ">def, as, for, yield, true\n",
    "###### Web link for pythin coding article?\n",
    "> [Link here](https://medium.com/javarevisited/10-python-articles-programmers-should-read-c64f4725d968)\n",
    "\n"
   ]
  },
  {
   "attachments": {},
   "cell_type": "markdown",
   "metadata": {},
   "source": [
    "sccs"
   ]
  }
 ],
 "metadata": {
  "kernelspec": {
   "display_name": "Python 3",
   "language": "python",
   "name": "python3"
  },
  "language_info": {
   "codemirror_mode": {
    "name": "ipython",
    "version": 3
   },
   "file_extension": ".py",
   "mimetype": "text/x-python",
   "name": "python",
   "nbconvert_exporter": "python",
   "pygments_lexer": "ipython3",
   "version": "3.11.1"
  },
  "orig_nbformat": 4,
  "vscode": {
   "interpreter": {
    "hash": "e3dfee3fe5c3a31f4b4830527360689e25beb833bd2474d33bf97b86e4a25c09"
   }
  }
 },
 "nbformat": 4,
 "nbformat_minor": 2
}
