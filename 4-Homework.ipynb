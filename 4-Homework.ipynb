{
 "cells": [
  {
   "attachments": {},
   "cell_type": "markdown",
   "metadata": {},
   "source": [
    "\n",
    "Use a MarkDown file for this section:\n",
    "\n",
    "1. What does one need to do to use a module?\n",
    "1. Name a Module (not the DateTime Nodule) we looked at and write a line or 2 of code as an example using this module.\n",
    "1. What is a benefit of using Exception handling?\n",
    "1. NumPy arrays are like what Python data type?\n",
    "1. What is one of the main benefits of using NumPy arrays.\n",
    "1. What is one of the main requirements about the 'dtype' of NumPy arrays?\n",
    "1. Of the 10 uses of NumPy, name 2.\n",
    "1. Name one of the other libraries we'll use with NumPy?\n",
    "1. What is the shape of NumPy arrays?\n",
    "1. What is a Tensor?\n",
    "1. Name a reason why it's better using  NumPy for Data Analysis than using a Python List?\n",
    "1. When creating an \"empty\" array, where do the elements come from?\n"
   ]
  },
  {
   "cell_type": "code",
   "execution_count": null,
   "metadata": {},
   "outputs": [],
   "source": []
  }
 ],
 "metadata": {
  "kernelspec": {
   "display_name": "Python 3",
   "language": "python",
   "name": "python3"
  },
  "language_info": {
   "name": "python",
   "version": "3.11.1"
  },
  "orig_nbformat": 4,
  "vscode": {
   "interpreter": {
    "hash": "e3dfee3fe5c3a31f4b4830527360689e25beb833bd2474d33bf97b86e4a25c09"
   }
  }
 },
 "nbformat": 4,
 "nbformat_minor": 2
}
