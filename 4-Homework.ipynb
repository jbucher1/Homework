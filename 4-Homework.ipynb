{
 "cells": [
  {
   "attachments": {},
   "cell_type": "markdown",
   "metadata": {},
   "source": [
    "\n",
    "Use a MarkDown file for this section:\n",
    "\n",
    "# What does one need to do to use a module?\n",
    ">import the module.\n",
    "## Name a Module (not the DateTime Nodule) we looked at and write a line or 2 of code as an example using this module.\n",
    ">math module print(\"Round up ... \", math.ceil(2.6))\n",
    "\n",
    "### What is a benefit of using Exception handling?\n",
    ">test code and find erros\n",
    "#### NumPy arrays are like what Python data type?\n",
    ">Lists\n",
    "##### What is one of the main benefits of using NumPy arrays.\n",
    ">Fast\n",
    "###### What is one of the main requirements about the 'dtype' of NumPy arrays?\n",
    ">has to be same data type\n",
    "###### Of the 10 uses of NumPy, name 2.\n",
    ">numpy.repeat & numpy.random.choice\n",
    "###### Name one of the other libraries we'll use with NumPy?\n",
    ">pandas\n",
    "##### What is the shape of NumPy arrays?\n",
    ">the number of units along each dimension of the array\n",
    "##### What is a Tensor?\n",
    ">an array with 3+ dimensions\n",
    "##### Name a reason why it's better using  NumPy for Data Analysis than using a Python List?\n",
    ">faster, less memory\n",
    "##### When creating an \"empty\" array, where do the elements come from?\n",
    ">is random and depends on the state of the memory\n"
   ]
  },
  {
   "cell_type": "code",
   "execution_count": 10,
   "metadata": {},
   "outputs": [
    {
     "name": "stdout",
     "output_type": "stream",
     "text": [
      "Current Date and Time ... 2023-02-19 12:22:22.136267\n",
      "Month ... February\n"
     ]
    }
   ],
   "source": [
    "\n",
    "# using Date Time\n",
    "import datetime as dt\n",
    "\n",
    "# Get Current Date and Time\n",
    "a = dt.datetime.now()\n",
    "print(\"Current Date and Time ...\", a)\n",
    "##Use the DateTime module to get Current Date and Time, and save it to a variable. \n",
    "print(\"Month ...\", a.strftime(\"%B\"))\n",
    "###Then extract just the Full month name form that variable.\n",
    "\n",
    "def dna( name, day = 'sunday' ): \n",
    "    # \"This code below prints all info passed into this function\"\n",
    "    print(\"Name: \", name)\n",
    "    print(\"Age \", day)\n"
   ]
  },
  {
   "cell_type": "code",
   "execution_count": 31,
   "metadata": {},
   "outputs": [
    {
     "name": "stdout",
     "output_type": "stream",
     "text": [
      "Name:  joe\n",
      "day  sunday\n",
      "hi joe happy sunday\n",
      "Name:  joe\n",
      "day  sunday\n",
      "hi joe happy sunday\n",
      "Name:  kyle\n",
      "day  Monday\n",
      "hi kyle happy Monday\n"
     ]
    }
   ],
   "source": [
    "def dna( name, day = \"sunday\"): \n",
    "    # \"This code below prints all info passed into this function\"\n",
    "     print(\"Name: \", name)\n",
    "     print(\"day \", day)\n",
    "     print(\"hi\",name,\"happy\",day)\n",
    "##Have the function print out a greeting -- using the parameters -- that says something like \"Hi first-name! Happy day-name!\". Remember to use the variables in the greeting to replace first-name and day-name.\n",
    "\n",
    "dna('joe',\"sunday\")\n",
    "\n",
    "\n",
    "dna('joe')\n",
    "dna('kyle','Monday')\n",
    "\n",
    "#Invoke this function with 2 variables.\n",
    "#Invoke this function with 1 variable only.\n"
   ]
  },
  {
   "cell_type": "code",
   "execution_count": 1,
   "metadata": {},
   "outputs": [
    {
     "name": "stdout",
     "output_type": "stream",
     "text": [
      "[2 3 2]\n",
      "[ 0.  4.  8. 12. 16. 20.]\n",
      "[ 0.  4.  8. 12. 16. 20.]\n"
     ]
    }
   ],
   "source": [
    "\n",
    "\n",
    "import numpy\n",
    "#Import NumPy, use one of the NumPy methods and create an array with a shape of ... (2, 3, 2).\n",
    "npdna = numpy.array([2, 3, 2,])\n",
    "print(npdna)\n",
    "#Use NumPy .linspace() to create an array with 6 linearly spaced values between 0 and 20\n",
    "\n",
    "\n",
    "array = numpy.linspace(0, 20, 6)\n",
    "print(array)\n",
    "\n",
    "#Make a Deep Copy of the above array you created.\n",
    "import copy\n",
    "\n",
    "xarray=copy.deepcopy(array)\n",
    "print(xarray)\n",
    "\n",
    "#What are 2 reasons we use NumPy arrays over Python Lists\n",
    "#1.faster and more compact \n",
    "#2.Uses less memory "
   ]
  }
 ],
 "metadata": {
  "kernelspec": {
   "display_name": "Python 3",
   "language": "python",
   "name": "python3"
  },
  "language_info": {
   "codemirror_mode": {
    "name": "ipython",
    "version": 3
   },
   "file_extension": ".py",
   "mimetype": "text/x-python",
   "name": "python",
   "nbconvert_exporter": "python",
   "pygments_lexer": "ipython3",
   "version": "3.11.1"
  },
  "orig_nbformat": 4,
  "vscode": {
   "interpreter": {
    "hash": "e3dfee3fe5c3a31f4b4830527360689e25beb833bd2474d33bf97b86e4a25c09"
   }
  }
 },
 "nbformat": 4,
 "nbformat_minor": 2
}
