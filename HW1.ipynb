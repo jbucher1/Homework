{
 "cells": [
  {
   "attachments": {},
   "cell_type": "markdown",
   "metadata": {},
   "source": [
    "1. What kind of language is Python considered? \n",
    "-High Level Language (Interpreted)\n",
    "2. What’s a natural language? \n",
    "-Spoken Language\n",
    "3. Is Python a Natural or a Formal language? -Natural language\n",
    "4. What are Algorithms? -series of steps to solve a problem at hand\n",
    "5. Why is Python considered to be a high-level language?-they take less time to write\n",
    "-they are shorter and easier to read\n",
    "-and they are more likely to be correct/error free when we run them\n",
    "6. What is a Semantic error?  \n",
    "-code is grammatically correct but doesn't make any sense; it does not produce the expected results\n",
    "7. What is the #1 rule of coding / debugging  -Complexity is the enemy of efficiency!"
   ]
  },
  {
   "cell_type": "code",
   "execution_count": null,
   "metadata": {},
   "outputs": [],
   "source": [
    "print('Hello World')"
   ]
  }
 ],
 "metadata": {
  "kernelspec": {
   "display_name": "Python 3",
   "language": "python",
   "name": "python3"
  },
  "language_info": {
   "name": "python",
   "version": "3.11.1 (tags/v3.11.1:a7a450f, Dec  6 2022, 19:58:39) [MSC v.1934 64 bit (AMD64)]"
  },
  "orig_nbformat": 4,
  "vscode": {
   "interpreter": {
    "hash": "e3dfee3fe5c3a31f4b4830527360689e25beb833bd2474d33bf97b86e4a25c09"
   }
  }
 },
 "nbformat": 4,
 "nbformat_minor": 2
}
