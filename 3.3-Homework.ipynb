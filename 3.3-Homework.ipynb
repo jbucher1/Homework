{
 "cells": [
  {
   "cell_type": "code",
   "execution_count": null,
   "metadata": {},
   "outputs": [],
   "source": []
  },
  {
   "attachments": {},
   "cell_type": "markdown",
   "metadata": {},
   "source": [
    ". Create an if statement: if 'age' is greater than or equal to 25, print \"Renting a car is more affordable\", however if 'age' is less than 25, print \"Renting a car is very expensive.\""
   ]
  },
  {
   "attachments": {},
   "cell_type": "markdown",
   "metadata": {},
   "source": [
    " Create and chain an if-else  statement: if 'age' is greater than or equal to 25, print \"Renting a car is more affordable.\" If 'age' is less than 25 but greater than or equal to 18, print \"Renting a car is very expensive.\" Finally, if age is less than 18, print \"You cannot legally rent a car.\""
   ]
  },
  {
   "attachments": {},
   "cell_type": "markdown",
   "metadata": {},
   "source": [
    "Loop over the following string to (1) count all the characters in the string and (2) print out all the vowels -- \"The quick brown fox jumps over the lazy dog\""
   ]
  },
  {
   "attachments": {},
   "cell_type": "markdown",
   "metadata": {},
   "source": [
    "Write a nested loop that prints out every piece of clothing from the `couture` list, in every fashionable color from the `panettone` set: couture = [\"trousers\", \"blouse\", \"bandana\", \"cumber band\", \"blazer\", \"vest\", \"french beret\", \"scarf\", \"stole\"] and panettone = {\"cerise\", \"fuchsia\", \"aqua\", \"maple\", \"auburn\", \"burnt sienna\", \"gunmetal blue\", \"Dark Sapphire\"}"
   ]
  },
  {
   "attachments": {},
   "cell_type": "markdown",
   "metadata": {},
   "source": [
    "5. Use range as a loop to calculate the sum of all the numbers from 1 to 100\n",
    "\n",
    "6. Print the second item in this fruits list.\n",
    "    [\"apple\", \"banana\", \"cherry\"]\n",
    "\n",
    "7. Change the value from \"apple\" to \"kiwi\", in the fruits list.\n",
    "    [\"apple\", \"banana\", \"cherry\"]\n",
    "\n",
    "8. Use the append method to add \"orange\" to the fruits list.\n",
    "    [\"apple\", \"banana\", \"cherry\"]\n",
    "\n",
    "9. Use the insert method to add \"lemon\" as the second item in the fruits list.\n",
    "    [\"apple\", \"banana\", \"cherry\"]\n",
    "\n",
    "10. Use the remove method to remove \"banana\" from the fruits list.\n",
    "    [\"apple\", \"banana\", \"cherry\"]\n",
    "\n",
    "11. Use negative indexing to print the 3rd and 2nd to last items in the list.\n",
    "    [\"apple\", \"banana\", \"cherry\", \"orange\", \"kiwi\", \"melon\", \"mango\"]\n",
    "\n",
    "12. Use a range of indexes to print the third, fourth, and fifth item in the list.\n",
    "    [\"apple\", \"banana\", \"cherry\", \"orange\", \"kiwi\", \"melon\", \"mango\"]\n",
    "\n",
    "13. Use the correct syntax to print the number of items in the list.\n",
    "    [\"apple\", \"banana\", \"cherry\", \"orange\", \"kiwi\", \"melon\", \"mango\"]\n",
    "\n",
    "14. Use the correct syntax to sort this list in reverse order\n",
    "    [\"apple\", \"banana\", \"cherry\", \"orange\", \"kiwi\", \"melon\", \"mango\"]"
   ]
  }
 ],
 "metadata": {
  "kernelspec": {
   "display_name": "Python 3",
   "language": "python",
   "name": "python3"
  },
  "language_info": {
   "name": "python",
   "version": "3.11.1 (tags/v3.11.1:a7a450f, Dec  6 2022, 19:58:39) [MSC v.1934 64 bit (AMD64)]"
  },
  "orig_nbformat": 4,
  "vscode": {
   "interpreter": {
    "hash": "e3dfee3fe5c3a31f4b4830527360689e25beb833bd2474d33bf97b86e4a25c09"
   }
  }
 },
 "nbformat": 4,
 "nbformat_minor": 2
}
