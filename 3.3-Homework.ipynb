{
 "cells": [
  {
   "cell_type": "code",
   "execution_count": 3,
   "metadata": {},
   "outputs": [
    {
     "name": "stdout",
     "output_type": "stream",
     "text": [
      "Renting a car is more affordable\n",
      "renting a car is more affordable\n",
      "You cannot legally rent a car\n"
     ]
    }
   ],
   "source": [
    "age=25\n",
    "if age >= 25:\n",
    "\n",
    "    print('Renting a car is more affordable')\n",
    "if age < 25:\n",
    "\n",
    "    print(\"Renting a car is very expensive.\")\n",
    "\n",
    "\n",
    "if age >= 25:\n",
    "    print(\"renting a car is more affordable\")\n",
    "\n",
    "if age < 25 > 18:\n",
    "    print(\"renting a car is very expensive\")\n",
    "\n",
    "else:\n",
    "    print ('You cannot legally rent a car')"
   ]
  },
  {
   "cell_type": "code",
   "execution_count": 20,
   "metadata": {},
   "outputs": [
    {
     "name": "stdout",
     "output_type": "stream",
     "text": [
      "11\n"
     ]
    }
   ],
   "source": [
    "string=(\"The quick brown fox jumps over the lazy dog\")\n",
    "vowels=('a,e,i,o,u')\n",
    "\n",
    "count = 0\n",
    "for i in range(len(string)):\n",
    "    if (\n",
    "        (string[i] == \"a\")\n",
    "        or (string[i] == \"e\")\n",
    "        or (string[i] == \"i\")\n",
    "        or (string[i] == \"o\")\n",
    "        or (string[i] == \"u\")\n",
    "    ):\n",
    "        count += 1\n",
    "\n",
    "print(count)\n",
    "\n",
    "\n"
   ]
  },
  {
   "cell_type": "code",
   "execution_count": 21,
   "metadata": {},
   "outputs": [
    {
     "name": "stdout",
     "output_type": "stream",
     "text": [
      "['trousersmaple', 'trousersfuchsia', 'trousersburnt sienna', 'trousersauburn', 'trousersaqua', 'trousersDark Sapphire', 'trouserscerise', 'trousersgunmetal blue', 'blousemaple', 'blousefuchsia', 'blouseburnt sienna', 'blouseauburn', 'blouseaqua', 'blouseDark Sapphire', 'blousecerise', 'blousegunmetal blue', 'bandanamaple', 'bandanafuchsia', 'bandanaburnt sienna', 'bandanaauburn', 'bandanaaqua', 'bandanaDark Sapphire', 'bandanacerise', 'bandanagunmetal blue', 'cumber bandmaple', 'cumber bandfuchsia', 'cumber bandburnt sienna', 'cumber bandauburn', 'cumber bandaqua', 'cumber bandDark Sapphire', 'cumber bandcerise', 'cumber bandgunmetal blue', 'blazermaple', 'blazerfuchsia', 'blazerburnt sienna', 'blazerauburn', 'blazeraqua', 'blazerDark Sapphire', 'blazercerise', 'blazergunmetal blue', 'vestmaple', 'vestfuchsia', 'vestburnt sienna', 'vestauburn', 'vestaqua', 'vestDark Sapphire', 'vestcerise', 'vestgunmetal blue', 'french beretmaple', 'french beretfuchsia', 'french beretburnt sienna', 'french beretauburn', 'french beretaqua', 'french beretDark Sapphire', 'french beretcerise', 'french beretgunmetal blue', 'scarfmaple', 'scarffuchsia', 'scarfburnt sienna', 'scarfauburn', 'scarfaqua', 'scarfDark Sapphire', 'scarfcerise', 'scarfgunmetal blue', 'stolemaple', 'stolefuchsia', 'stoleburnt sienna', 'stoleauburn', 'stoleaqua', 'stoleDark Sapphire', 'stolecerise', 'stolegunmetal blue']\n"
     ]
    }
   ],
   "source": [
    "couture=[\"trousers\", \"blouse\", \"bandana\", \"cumber band\", \"blazer\", \"vest\", \"french beret\", \"scarf\", \"stole\"]\n",
    "panettone={\"cerise\", \"fuchsia\", \"aqua\", \"maple\", \"auburn\", \"burnt sienna\", \"gunmetal blue\", \"Dark Sapphire\"}\n",
    "\n",
    "final = [i+j for i in couture for j in panettone]\n",
    "print(final)"
   ]
  },
  {
   "cell_type": "code",
   "execution_count": 23,
   "metadata": {},
   "outputs": [
    {
     "name": "stdout",
     "output_type": "stream",
     "text": [
      "100 5050\n"
     ]
    }
   ],
   "source": [
    "n = 100\n",
    "res = sum(range(1, n + 1))\n",
    "print(n, res)"
   ]
  },
  {
   "cell_type": "code",
   "execution_count": 56,
   "metadata": {},
   "outputs": [
    {
     "name": "stdout",
     "output_type": "stream",
     "text": [
      "banana\n",
      "['kiwi', 'banana', 'cherry']\n",
      "['kiwi', 'banana', 'cherry', 'orange']\n",
      "['kiwi', 'lemon', 'banana', 'cherry', 'orange']\n",
      "['kiwi', 'lemon', 'cherry', 'orange']\n",
      "['kiwi', 'melon']\n",
      "['cherry', 'orange', 'kiwi']\n",
      "7\n",
      "['orange', 'melon', 'mango', 'kiwi', 'cherry', 'banana', 'apple']\n"
     ]
    }
   ],
   "source": [
    "fruits = [\"apple\", \"banana\", \"cherry\"]\n",
    "print(fruits[1])\n",
    "\n",
    "fruits[0] = \"kiwi\"\n",
    "print(fruits)\n",
    "\n",
    "fruits.append('orange')\n",
    "print(fruits)\n",
    "\n",
    "fruits.insert(1, \"lemon\")\n",
    "print(fruits)\n",
    "\n",
    "\n",
    "fruits.remove('banana')\n",
    "print(fruits)\n",
    "\n",
    "fruits2 = [\"apple\", \"banana\", \"cherry\", \"orange\", \"kiwi\", \"melon\", \"mango\"]\n",
    "print(fruits2[4:-1])\n",
    "\n",
    "print(fruits2[2:5])\n",
    "\n",
    "listLength = len(fruits2)\n",
    "\n",
    "print(listLength)\n",
    "\n",
    "fruits2.sort( reverse=True )\n",
    "print(fruits2)\n",
    "\n"
   ]
  }
 ],
 "metadata": {
  "kernelspec": {
   "display_name": "Python 3",
   "language": "python",
   "name": "python3"
  },
  "language_info": {
   "codemirror_mode": {
    "name": "ipython",
    "version": 3
   },
   "file_extension": ".py",
   "mimetype": "text/x-python",
   "name": "python",
   "nbconvert_exporter": "python",
   "pygments_lexer": "ipython3",
   "version": "3.11.1"
  },
  "orig_nbformat": 4,
  "vscode": {
   "interpreter": {
    "hash": "e3dfee3fe5c3a31f4b4830527360689e25beb833bd2474d33bf97b86e4a25c09"
   }
  }
 },
 "nbformat": 4,
 "nbformat_minor": 2
}
